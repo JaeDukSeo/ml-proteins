{
 "cells": [
  {
   "cell_type": "markdown",
   "metadata": {},
   "source": [
    "## Inspect results"
   ]
  },
  {
   "cell_type": "code",
   "execution_count": 1,
   "metadata": {
    "collapsed": true
   },
   "outputs": [],
   "source": [
    "b = '/Users/nicholassofroniew/Documents/DATA-proteins/proteins'"
   ]
  },
  {
   "cell_type": "code",
   "execution_count": 2,
   "metadata": {
    "collapsed": true
   },
   "outputs": [],
   "source": [
    "from pandas import read_csv\n",
    "from os.path import join\n",
    "import matplotlib.pyplot as plt\n",
    "from glob import glob\n",
    "from pandas import DataFrame\n",
    "%matplotlib inline"
   ]
  },
  {
   "cell_type": "code",
   "execution_count": 4,
   "metadata": {
    "collapsed": true
   },
   "outputs": [],
   "source": [
    "results = read_csv(join(b,'models-lstm3D-2/model-0030','results.csv'))"
   ]
  },
  {
   "cell_type": "code",
   "execution_count": 5,
   "metadata": {},
   "outputs": [],
   "source": [
    "results = read_csv(join(b,'models-lstmAng1-3D/model-0045','results.csv'))"
   ]
  },
  {
   "cell_type": "code",
   "execution_count": 6,
   "metadata": {},
   "outputs": [
    {
     "data": {
      "text/html": [
       "<div>\n",
       "<style>\n",
       "    .dataframe thead tr:only-child th {\n",
       "        text-align: right;\n",
       "    }\n",
       "\n",
       "    .dataframe thead th {\n",
       "        text-align: left;\n",
       "    }\n",
       "\n",
       "    .dataframe tbody tr th {\n",
       "        vertical-align: top;\n",
       "    }\n",
       "</style>\n",
       "<table border=\"1\" class=\"dataframe\">\n",
       "  <thead>\n",
       "    <tr style=\"text-align: right;\">\n",
       "      <th></th>\n",
       "      <th>Unnamed: 0</th>\n",
       "      <th>RMSD</th>\n",
       "      <th>bond_angle</th>\n",
       "      <th>dRMSD</th>\n",
       "      <th>length</th>\n",
       "      <th>omega</th>\n",
       "      <th>phi</th>\n",
       "      <th>psi</th>\n",
       "    </tr>\n",
       "  </thead>\n",
       "  <tbody>\n",
       "    <tr>\n",
       "      <th>0</th>\n",
       "      <td>0</td>\n",
       "      <td>18.557162</td>\n",
       "      <td>60.398399</td>\n",
       "      <td>20.532946</td>\n",
       "      <td>162.0</td>\n",
       "      <td>96.569017</td>\n",
       "      <td>112.055990</td>\n",
       "      <td>88.453847</td>\n",
       "    </tr>\n",
       "    <tr>\n",
       "      <th>1</th>\n",
       "      <td>1</td>\n",
       "      <td>18.579917</td>\n",
       "      <td>60.089570</td>\n",
       "      <td>20.426053</td>\n",
       "      <td>162.0</td>\n",
       "      <td>96.632682</td>\n",
       "      <td>112.178915</td>\n",
       "      <td>88.935233</td>\n",
       "    </tr>\n",
       "    <tr>\n",
       "      <th>2</th>\n",
       "      <td>2</td>\n",
       "      <td>18.510978</td>\n",
       "      <td>59.797281</td>\n",
       "      <td>20.158372</td>\n",
       "      <td>162.0</td>\n",
       "      <td>96.946888</td>\n",
       "      <td>111.944453</td>\n",
       "      <td>89.936702</td>\n",
       "    </tr>\n",
       "    <tr>\n",
       "      <th>3</th>\n",
       "      <td>3</td>\n",
       "      <td>18.564756</td>\n",
       "      <td>59.891528</td>\n",
       "      <td>20.189628</td>\n",
       "      <td>162.0</td>\n",
       "      <td>96.697648</td>\n",
       "      <td>112.312702</td>\n",
       "      <td>88.839966</td>\n",
       "    </tr>\n",
       "    <tr>\n",
       "      <th>4</th>\n",
       "      <td>4</td>\n",
       "      <td>18.530962</td>\n",
       "      <td>59.547221</td>\n",
       "      <td>20.359348</td>\n",
       "      <td>162.0</td>\n",
       "      <td>96.908924</td>\n",
       "      <td>111.800173</td>\n",
       "      <td>89.630417</td>\n",
       "    </tr>\n",
       "    <tr>\n",
       "      <th>5</th>\n",
       "      <td>5</td>\n",
       "      <td>17.743450</td>\n",
       "      <td>59.290352</td>\n",
       "      <td>20.079696</td>\n",
       "      <td>164.0</td>\n",
       "      <td>96.527708</td>\n",
       "      <td>109.197189</td>\n",
       "      <td>94.808984</td>\n",
       "    </tr>\n",
       "    <tr>\n",
       "      <th>6</th>\n",
       "      <td>6</td>\n",
       "      <td>19.441821</td>\n",
       "      <td>59.576787</td>\n",
       "      <td>21.060002</td>\n",
       "      <td>164.0</td>\n",
       "      <td>96.618919</td>\n",
       "      <td>112.250575</td>\n",
       "      <td>90.842411</td>\n",
       "    </tr>\n",
       "    <tr>\n",
       "      <th>7</th>\n",
       "      <td>7</td>\n",
       "      <td>18.918251</td>\n",
       "      <td>59.941820</td>\n",
       "      <td>19.762653</td>\n",
       "      <td>162.0</td>\n",
       "      <td>96.465044</td>\n",
       "      <td>112.242501</td>\n",
       "      <td>89.141475</td>\n",
       "    </tr>\n",
       "    <tr>\n",
       "      <th>8</th>\n",
       "      <td>8</td>\n",
       "      <td>18.828321</td>\n",
       "      <td>59.768405</td>\n",
       "      <td>20.170168</td>\n",
       "      <td>162.0</td>\n",
       "      <td>96.896679</td>\n",
       "      <td>111.949044</td>\n",
       "      <td>88.916328</td>\n",
       "    </tr>\n",
       "    <tr>\n",
       "      <th>9</th>\n",
       "      <td>9</td>\n",
       "      <td>24.376015</td>\n",
       "      <td>60.706505</td>\n",
       "      <td>22.020684</td>\n",
       "      <td>291.0</td>\n",
       "      <td>93.427197</td>\n",
       "      <td>105.923007</td>\n",
       "      <td>90.473960</td>\n",
       "    </tr>\n",
       "    <tr>\n",
       "      <th>10</th>\n",
       "      <td>10</td>\n",
       "      <td>21.829938</td>\n",
       "      <td>59.476004</td>\n",
       "      <td>21.691918</td>\n",
       "      <td>300.0</td>\n",
       "      <td>95.881553</td>\n",
       "      <td>105.841217</td>\n",
       "      <td>82.014398</td>\n",
       "    </tr>\n",
       "    <tr>\n",
       "      <th>11</th>\n",
       "      <td>11</td>\n",
       "      <td>20.398888</td>\n",
       "      <td>61.460160</td>\n",
       "      <td>20.202733</td>\n",
       "      <td>256.0</td>\n",
       "      <td>93.212770</td>\n",
       "      <td>89.273124</td>\n",
       "      <td>67.888512</td>\n",
       "    </tr>\n",
       "    <tr>\n",
       "      <th>12</th>\n",
       "      <td>12</td>\n",
       "      <td>17.648113</td>\n",
       "      <td>60.015391</td>\n",
       "      <td>17.717727</td>\n",
       "      <td>124.0</td>\n",
       "      <td>94.273765</td>\n",
       "      <td>91.033219</td>\n",
       "      <td>67.214054</td>\n",
       "    </tr>\n",
       "    <tr>\n",
       "      <th>13</th>\n",
       "      <td>13</td>\n",
       "      <td>19.693130</td>\n",
       "      <td>59.892787</td>\n",
       "      <td>18.033911</td>\n",
       "      <td>158.0</td>\n",
       "      <td>96.221901</td>\n",
       "      <td>89.241295</td>\n",
       "      <td>78.337125</td>\n",
       "    </tr>\n",
       "    <tr>\n",
       "      <th>14</th>\n",
       "      <td>14</td>\n",
       "      <td>26.230972</td>\n",
       "      <td>58.457702</td>\n",
       "      <td>20.316161</td>\n",
       "      <td>226.0</td>\n",
       "      <td>96.786657</td>\n",
       "      <td>103.935217</td>\n",
       "      <td>82.654942</td>\n",
       "    </tr>\n",
       "    <tr>\n",
       "      <th>15</th>\n",
       "      <td>15</td>\n",
       "      <td>32.167824</td>\n",
       "      <td>60.394000</td>\n",
       "      <td>28.562242</td>\n",
       "      <td>483.0</td>\n",
       "      <td>94.420469</td>\n",
       "      <td>103.762043</td>\n",
       "      <td>79.021435</td>\n",
       "    </tr>\n",
       "    <tr>\n",
       "      <th>16</th>\n",
       "      <td>16</td>\n",
       "      <td>38.065819</td>\n",
       "      <td>60.147541</td>\n",
       "      <td>31.489398</td>\n",
       "      <td>753.0</td>\n",
       "      <td>94.053321</td>\n",
       "      <td>100.181883</td>\n",
       "      <td>80.459119</td>\n",
       "    </tr>\n",
       "    <tr>\n",
       "      <th>17</th>\n",
       "      <td>17</td>\n",
       "      <td>27.562849</td>\n",
       "      <td>60.777252</td>\n",
       "      <td>24.657487</td>\n",
       "      <td>374.0</td>\n",
       "      <td>94.287025</td>\n",
       "      <td>98.137532</td>\n",
       "      <td>76.441809</td>\n",
       "    </tr>\n",
       "    <tr>\n",
       "      <th>18</th>\n",
       "      <td>18</td>\n",
       "      <td>23.714664</td>\n",
       "      <td>60.780138</td>\n",
       "      <td>21.695651</td>\n",
       "      <td>291.0</td>\n",
       "      <td>93.123232</td>\n",
       "      <td>106.094254</td>\n",
       "      <td>90.595914</td>\n",
       "    </tr>\n",
       "    <tr>\n",
       "      <th>19</th>\n",
       "      <td>19</td>\n",
       "      <td>23.714664</td>\n",
       "      <td>60.780138</td>\n",
       "      <td>21.695651</td>\n",
       "      <td>291.0</td>\n",
       "      <td>93.123232</td>\n",
       "      <td>106.094254</td>\n",
       "      <td>90.595914</td>\n",
       "    </tr>\n",
       "    <tr>\n",
       "      <th>20</th>\n",
       "      <td>20</td>\n",
       "      <td>23.714664</td>\n",
       "      <td>60.780138</td>\n",
       "      <td>21.695651</td>\n",
       "      <td>291.0</td>\n",
       "      <td>93.123232</td>\n",
       "      <td>106.094254</td>\n",
       "      <td>90.595914</td>\n",
       "    </tr>\n",
       "    <tr>\n",
       "      <th>21</th>\n",
       "      <td>21</td>\n",
       "      <td>24.390889</td>\n",
       "      <td>60.755140</td>\n",
       "      <td>21.701676</td>\n",
       "      <td>291.0</td>\n",
       "      <td>93.443821</td>\n",
       "      <td>106.127304</td>\n",
       "      <td>90.362463</td>\n",
       "    </tr>\n",
       "    <tr>\n",
       "      <th>22</th>\n",
       "      <td>22</td>\n",
       "      <td>18.204164</td>\n",
       "      <td>60.038429</td>\n",
       "      <td>20.533649</td>\n",
       "      <td>153.0</td>\n",
       "      <td>97.727790</td>\n",
       "      <td>118.969542</td>\n",
       "      <td>95.360907</td>\n",
       "    </tr>\n",
       "    <tr>\n",
       "      <th>23</th>\n",
       "      <td>23</td>\n",
       "      <td>30.384736</td>\n",
       "      <td>60.796566</td>\n",
       "      <td>25.391299</td>\n",
       "      <td>331.0</td>\n",
       "      <td>96.324246</td>\n",
       "      <td>99.256269</td>\n",
       "      <td>79.505894</td>\n",
       "    </tr>\n",
       "    <tr>\n",
       "      <th>24</th>\n",
       "      <td>24</td>\n",
       "      <td>25.248741</td>\n",
       "      <td>62.113198</td>\n",
       "      <td>18.989823</td>\n",
       "      <td>246.0</td>\n",
       "      <td>90.720084</td>\n",
       "      <td>100.197613</td>\n",
       "      <td>74.689460</td>\n",
       "    </tr>\n",
       "    <tr>\n",
       "      <th>25</th>\n",
       "      <td>25</td>\n",
       "      <td>22.900138</td>\n",
       "      <td>58.168522</td>\n",
       "      <td>17.357175</td>\n",
       "      <td>169.0</td>\n",
       "      <td>98.758910</td>\n",
       "      <td>104.300907</td>\n",
       "      <td>80.698555</td>\n",
       "    </tr>\n",
       "    <tr>\n",
       "      <th>26</th>\n",
       "      <td>26</td>\n",
       "      <td>28.576010</td>\n",
       "      <td>62.347193</td>\n",
       "      <td>25.161230</td>\n",
       "      <td>146.0</td>\n",
       "      <td>93.534486</td>\n",
       "      <td>116.108725</td>\n",
       "      <td>85.201387</td>\n",
       "    </tr>\n",
       "    <tr>\n",
       "      <th>27</th>\n",
       "      <td>27</td>\n",
       "      <td>21.088270</td>\n",
       "      <td>60.011275</td>\n",
       "      <td>17.806774</td>\n",
       "      <td>153.0</td>\n",
       "      <td>96.193363</td>\n",
       "      <td>119.938338</td>\n",
       "      <td>92.469627</td>\n",
       "    </tr>\n",
       "    <tr>\n",
       "      <th>28</th>\n",
       "      <td>28</td>\n",
       "      <td>37.231694</td>\n",
       "      <td>58.973501</td>\n",
       "      <td>27.971529</td>\n",
       "      <td>547.0</td>\n",
       "      <td>96.637284</td>\n",
       "      <td>100.575593</td>\n",
       "      <td>82.369167</td>\n",
       "    </tr>\n",
       "    <tr>\n",
       "      <th>29</th>\n",
       "      <td>29</td>\n",
       "      <td>18.974991</td>\n",
       "      <td>59.641754</td>\n",
       "      <td>20.996602</td>\n",
       "      <td>268.0</td>\n",
       "      <td>96.019836</td>\n",
       "      <td>98.250568</td>\n",
       "      <td>76.247124</td>\n",
       "    </tr>\n",
       "    <tr>\n",
       "      <th>...</th>\n",
       "      <td>...</td>\n",
       "      <td>...</td>\n",
       "      <td>...</td>\n",
       "      <td>...</td>\n",
       "      <td>...</td>\n",
       "      <td>...</td>\n",
       "      <td>...</td>\n",
       "      <td>...</td>\n",
       "    </tr>\n",
       "    <tr>\n",
       "      <th>1190</th>\n",
       "      <td>1190</td>\n",
       "      <td>23.287996</td>\n",
       "      <td>60.613707</td>\n",
       "      <td>24.892869</td>\n",
       "      <td>341.0</td>\n",
       "      <td>94.343015</td>\n",
       "      <td>94.573783</td>\n",
       "      <td>78.577791</td>\n",
       "    </tr>\n",
       "    <tr>\n",
       "      <th>1191</th>\n",
       "      <td>1191</td>\n",
       "      <td>33.739360</td>\n",
       "      <td>59.726733</td>\n",
       "      <td>23.339761</td>\n",
       "      <td>388.0</td>\n",
       "      <td>93.441882</td>\n",
       "      <td>79.497721</td>\n",
       "      <td>62.755388</td>\n",
       "    </tr>\n",
       "    <tr>\n",
       "      <th>1192</th>\n",
       "      <td>1192</td>\n",
       "      <td>18.606641</td>\n",
       "      <td>59.067892</td>\n",
       "      <td>19.094120</td>\n",
       "      <td>214.0</td>\n",
       "      <td>97.061879</td>\n",
       "      <td>103.960367</td>\n",
       "      <td>83.463386</td>\n",
       "    </tr>\n",
       "    <tr>\n",
       "      <th>1193</th>\n",
       "      <td>1193</td>\n",
       "      <td>32.572895</td>\n",
       "      <td>61.480621</td>\n",
       "      <td>22.291397</td>\n",
       "      <td>235.0</td>\n",
       "      <td>94.491270</td>\n",
       "      <td>113.731886</td>\n",
       "      <td>90.384651</td>\n",
       "    </tr>\n",
       "    <tr>\n",
       "      <th>1194</th>\n",
       "      <td>1194</td>\n",
       "      <td>25.919518</td>\n",
       "      <td>58.768048</td>\n",
       "      <td>23.205658</td>\n",
       "      <td>347.0</td>\n",
       "      <td>94.710989</td>\n",
       "      <td>103.236319</td>\n",
       "      <td>82.888282</td>\n",
       "    </tr>\n",
       "    <tr>\n",
       "      <th>1195</th>\n",
       "      <td>1195</td>\n",
       "      <td>14.789312</td>\n",
       "      <td>61.608488</td>\n",
       "      <td>16.777015</td>\n",
       "      <td>129.0</td>\n",
       "      <td>94.013548</td>\n",
       "      <td>113.901820</td>\n",
       "      <td>84.751747</td>\n",
       "    </tr>\n",
       "    <tr>\n",
       "      <th>1196</th>\n",
       "      <td>1196</td>\n",
       "      <td>14.795459</td>\n",
       "      <td>61.658099</td>\n",
       "      <td>16.799501</td>\n",
       "      <td>129.0</td>\n",
       "      <td>94.012353</td>\n",
       "      <td>114.177096</td>\n",
       "      <td>84.427330</td>\n",
       "    </tr>\n",
       "    <tr>\n",
       "      <th>1197</th>\n",
       "      <td>1197</td>\n",
       "      <td>36.872037</td>\n",
       "      <td>60.796245</td>\n",
       "      <td>24.559079</td>\n",
       "      <td>358.0</td>\n",
       "      <td>95.172188</td>\n",
       "      <td>105.373857</td>\n",
       "      <td>83.332403</td>\n",
       "    </tr>\n",
       "    <tr>\n",
       "      <th>1198</th>\n",
       "      <td>1198</td>\n",
       "      <td>24.653633</td>\n",
       "      <td>59.898531</td>\n",
       "      <td>21.432377</td>\n",
       "      <td>279.0</td>\n",
       "      <td>95.535815</td>\n",
       "      <td>103.253146</td>\n",
       "      <td>80.499480</td>\n",
       "    </tr>\n",
       "    <tr>\n",
       "      <th>1199</th>\n",
       "      <td>1199</td>\n",
       "      <td>35.923049</td>\n",
       "      <td>59.779273</td>\n",
       "      <td>22.636970</td>\n",
       "      <td>281.0</td>\n",
       "      <td>95.672863</td>\n",
       "      <td>102.947367</td>\n",
       "      <td>80.633069</td>\n",
       "    </tr>\n",
       "    <tr>\n",
       "      <th>1200</th>\n",
       "      <td>1200</td>\n",
       "      <td>20.496268</td>\n",
       "      <td>65.624229</td>\n",
       "      <td>18.108842</td>\n",
       "      <td>36.0</td>\n",
       "      <td>90.719495</td>\n",
       "      <td>124.373002</td>\n",
       "      <td>79.015624</td>\n",
       "    </tr>\n",
       "    <tr>\n",
       "      <th>1201</th>\n",
       "      <td>1201</td>\n",
       "      <td>25.220639</td>\n",
       "      <td>61.305700</td>\n",
       "      <td>22.948365</td>\n",
       "      <td>338.0</td>\n",
       "      <td>93.013602</td>\n",
       "      <td>97.857688</td>\n",
       "      <td>75.500200</td>\n",
       "    </tr>\n",
       "    <tr>\n",
       "      <th>1202</th>\n",
       "      <td>1202</td>\n",
       "      <td>35.565329</td>\n",
       "      <td>59.916762</td>\n",
       "      <td>31.744289</td>\n",
       "      <td>349.0</td>\n",
       "      <td>95.455301</td>\n",
       "      <td>110.302390</td>\n",
       "      <td>85.668108</td>\n",
       "    </tr>\n",
       "    <tr>\n",
       "      <th>1203</th>\n",
       "      <td>1203</td>\n",
       "      <td>20.826598</td>\n",
       "      <td>60.255575</td>\n",
       "      <td>18.706087</td>\n",
       "      <td>210.0</td>\n",
       "      <td>93.576807</td>\n",
       "      <td>98.645951</td>\n",
       "      <td>79.965269</td>\n",
       "    </tr>\n",
       "    <tr>\n",
       "      <th>1204</th>\n",
       "      <td>1204</td>\n",
       "      <td>27.280786</td>\n",
       "      <td>58.795683</td>\n",
       "      <td>24.157277</td>\n",
       "      <td>340.0</td>\n",
       "      <td>97.662994</td>\n",
       "      <td>117.539733</td>\n",
       "      <td>96.052585</td>\n",
       "    </tr>\n",
       "    <tr>\n",
       "      <th>1205</th>\n",
       "      <td>1205</td>\n",
       "      <td>20.478996</td>\n",
       "      <td>60.215428</td>\n",
       "      <td>20.280684</td>\n",
       "      <td>223.0</td>\n",
       "      <td>93.264830</td>\n",
       "      <td>88.330114</td>\n",
       "      <td>69.249987</td>\n",
       "    </tr>\n",
       "    <tr>\n",
       "      <th>1206</th>\n",
       "      <td>1206</td>\n",
       "      <td>24.586684</td>\n",
       "      <td>60.618845</td>\n",
       "      <td>19.709171</td>\n",
       "      <td>188.0</td>\n",
       "      <td>93.719591</td>\n",
       "      <td>83.935475</td>\n",
       "      <td>68.134323</td>\n",
       "    </tr>\n",
       "    <tr>\n",
       "      <th>1207</th>\n",
       "      <td>1207</td>\n",
       "      <td>44.085292</td>\n",
       "      <td>59.530591</td>\n",
       "      <td>22.559070</td>\n",
       "      <td>336.0</td>\n",
       "      <td>95.869336</td>\n",
       "      <td>103.865781</td>\n",
       "      <td>79.964232</td>\n",
       "    </tr>\n",
       "    <tr>\n",
       "      <th>1208</th>\n",
       "      <td>1208</td>\n",
       "      <td>20.368542</td>\n",
       "      <td>60.698407</td>\n",
       "      <td>18.561241</td>\n",
       "      <td>169.0</td>\n",
       "      <td>93.685266</td>\n",
       "      <td>100.656273</td>\n",
       "      <td>78.899307</td>\n",
       "    </tr>\n",
       "    <tr>\n",
       "      <th>1209</th>\n",
       "      <td>1209</td>\n",
       "      <td>35.125158</td>\n",
       "      <td>59.674904</td>\n",
       "      <td>36.818516</td>\n",
       "      <td>457.0</td>\n",
       "      <td>96.396163</td>\n",
       "      <td>104.062839</td>\n",
       "      <td>83.925977</td>\n",
       "    </tr>\n",
       "    <tr>\n",
       "      <th>1210</th>\n",
       "      <td>1210</td>\n",
       "      <td>48.484743</td>\n",
       "      <td>61.168511</td>\n",
       "      <td>31.127571</td>\n",
       "      <td>268.0</td>\n",
       "      <td>95.550107</td>\n",
       "      <td>114.165671</td>\n",
       "      <td>90.689988</td>\n",
       "    </tr>\n",
       "    <tr>\n",
       "      <th>1211</th>\n",
       "      <td>1211</td>\n",
       "      <td>41.036287</td>\n",
       "      <td>61.380097</td>\n",
       "      <td>21.566633</td>\n",
       "      <td>307.0</td>\n",
       "      <td>92.688089</td>\n",
       "      <td>103.449871</td>\n",
       "      <td>77.288925</td>\n",
       "    </tr>\n",
       "    <tr>\n",
       "      <th>1212</th>\n",
       "      <td>1212</td>\n",
       "      <td>21.874008</td>\n",
       "      <td>59.326323</td>\n",
       "      <td>21.653274</td>\n",
       "      <td>300.0</td>\n",
       "      <td>95.967300</td>\n",
       "      <td>105.366268</td>\n",
       "      <td>82.205400</td>\n",
       "    </tr>\n",
       "    <tr>\n",
       "      <th>1213</th>\n",
       "      <td>1213</td>\n",
       "      <td>41.485674</td>\n",
       "      <td>60.373935</td>\n",
       "      <td>32.353298</td>\n",
       "      <td>753.0</td>\n",
       "      <td>93.693361</td>\n",
       "      <td>100.206575</td>\n",
       "      <td>80.594455</td>\n",
       "    </tr>\n",
       "    <tr>\n",
       "      <th>1214</th>\n",
       "      <td>1214</td>\n",
       "      <td>33.392541</td>\n",
       "      <td>60.425229</td>\n",
       "      <td>32.468013</td>\n",
       "      <td>684.0</td>\n",
       "      <td>94.458820</td>\n",
       "      <td>91.600411</td>\n",
       "      <td>73.009080</td>\n",
       "    </tr>\n",
       "    <tr>\n",
       "      <th>1215</th>\n",
       "      <td>1215</td>\n",
       "      <td>39.937245</td>\n",
       "      <td>61.575731</td>\n",
       "      <td>26.834199</td>\n",
       "      <td>414.0</td>\n",
       "      <td>93.809593</td>\n",
       "      <td>105.012397</td>\n",
       "      <td>78.716331</td>\n",
       "    </tr>\n",
       "    <tr>\n",
       "      <th>1216</th>\n",
       "      <td>1216</td>\n",
       "      <td>36.731236</td>\n",
       "      <td>60.623234</td>\n",
       "      <td>23.366101</td>\n",
       "      <td>305.0</td>\n",
       "      <td>93.753314</td>\n",
       "      <td>105.098165</td>\n",
       "      <td>81.056106</td>\n",
       "    </tr>\n",
       "    <tr>\n",
       "      <th>1217</th>\n",
       "      <td>1217</td>\n",
       "      <td>38.752496</td>\n",
       "      <td>60.680489</td>\n",
       "      <td>29.963856</td>\n",
       "      <td>832.0</td>\n",
       "      <td>94.209300</td>\n",
       "      <td>107.836006</td>\n",
       "      <td>83.466854</td>\n",
       "    </tr>\n",
       "    <tr>\n",
       "      <th>1218</th>\n",
       "      <td>1218</td>\n",
       "      <td>36.754606</td>\n",
       "      <td>60.806960</td>\n",
       "      <td>27.525940</td>\n",
       "      <td>414.0</td>\n",
       "      <td>95.353348</td>\n",
       "      <td>104.284094</td>\n",
       "      <td>80.343975</td>\n",
       "    </tr>\n",
       "    <tr>\n",
       "      <th>1219</th>\n",
       "      <td>1219</td>\n",
       "      <td>25.980152</td>\n",
       "      <td>60.168281</td>\n",
       "      <td>23.478534</td>\n",
       "      <td>360.0</td>\n",
       "      <td>95.147384</td>\n",
       "      <td>100.265233</td>\n",
       "      <td>75.476703</td>\n",
       "    </tr>\n",
       "  </tbody>\n",
       "</table>\n",
       "<p>1220 rows × 8 columns</p>\n",
       "</div>"
      ],
      "text/plain": [
       "      Unnamed: 0       RMSD  bond_angle      dRMSD  length      omega  \\\n",
       "0              0  18.557162   60.398399  20.532946   162.0  96.569017   \n",
       "1              1  18.579917   60.089570  20.426053   162.0  96.632682   \n",
       "2              2  18.510978   59.797281  20.158372   162.0  96.946888   \n",
       "3              3  18.564756   59.891528  20.189628   162.0  96.697648   \n",
       "4              4  18.530962   59.547221  20.359348   162.0  96.908924   \n",
       "5              5  17.743450   59.290352  20.079696   164.0  96.527708   \n",
       "6              6  19.441821   59.576787  21.060002   164.0  96.618919   \n",
       "7              7  18.918251   59.941820  19.762653   162.0  96.465044   \n",
       "8              8  18.828321   59.768405  20.170168   162.0  96.896679   \n",
       "9              9  24.376015   60.706505  22.020684   291.0  93.427197   \n",
       "10            10  21.829938   59.476004  21.691918   300.0  95.881553   \n",
       "11            11  20.398888   61.460160  20.202733   256.0  93.212770   \n",
       "12            12  17.648113   60.015391  17.717727   124.0  94.273765   \n",
       "13            13  19.693130   59.892787  18.033911   158.0  96.221901   \n",
       "14            14  26.230972   58.457702  20.316161   226.0  96.786657   \n",
       "15            15  32.167824   60.394000  28.562242   483.0  94.420469   \n",
       "16            16  38.065819   60.147541  31.489398   753.0  94.053321   \n",
       "17            17  27.562849   60.777252  24.657487   374.0  94.287025   \n",
       "18            18  23.714664   60.780138  21.695651   291.0  93.123232   \n",
       "19            19  23.714664   60.780138  21.695651   291.0  93.123232   \n",
       "20            20  23.714664   60.780138  21.695651   291.0  93.123232   \n",
       "21            21  24.390889   60.755140  21.701676   291.0  93.443821   \n",
       "22            22  18.204164   60.038429  20.533649   153.0  97.727790   \n",
       "23            23  30.384736   60.796566  25.391299   331.0  96.324246   \n",
       "24            24  25.248741   62.113198  18.989823   246.0  90.720084   \n",
       "25            25  22.900138   58.168522  17.357175   169.0  98.758910   \n",
       "26            26  28.576010   62.347193  25.161230   146.0  93.534486   \n",
       "27            27  21.088270   60.011275  17.806774   153.0  96.193363   \n",
       "28            28  37.231694   58.973501  27.971529   547.0  96.637284   \n",
       "29            29  18.974991   59.641754  20.996602   268.0  96.019836   \n",
       "...          ...        ...         ...        ...     ...        ...   \n",
       "1190        1190  23.287996   60.613707  24.892869   341.0  94.343015   \n",
       "1191        1191  33.739360   59.726733  23.339761   388.0  93.441882   \n",
       "1192        1192  18.606641   59.067892  19.094120   214.0  97.061879   \n",
       "1193        1193  32.572895   61.480621  22.291397   235.0  94.491270   \n",
       "1194        1194  25.919518   58.768048  23.205658   347.0  94.710989   \n",
       "1195        1195  14.789312   61.608488  16.777015   129.0  94.013548   \n",
       "1196        1196  14.795459   61.658099  16.799501   129.0  94.012353   \n",
       "1197        1197  36.872037   60.796245  24.559079   358.0  95.172188   \n",
       "1198        1198  24.653633   59.898531  21.432377   279.0  95.535815   \n",
       "1199        1199  35.923049   59.779273  22.636970   281.0  95.672863   \n",
       "1200        1200  20.496268   65.624229  18.108842    36.0  90.719495   \n",
       "1201        1201  25.220639   61.305700  22.948365   338.0  93.013602   \n",
       "1202        1202  35.565329   59.916762  31.744289   349.0  95.455301   \n",
       "1203        1203  20.826598   60.255575  18.706087   210.0  93.576807   \n",
       "1204        1204  27.280786   58.795683  24.157277   340.0  97.662994   \n",
       "1205        1205  20.478996   60.215428  20.280684   223.0  93.264830   \n",
       "1206        1206  24.586684   60.618845  19.709171   188.0  93.719591   \n",
       "1207        1207  44.085292   59.530591  22.559070   336.0  95.869336   \n",
       "1208        1208  20.368542   60.698407  18.561241   169.0  93.685266   \n",
       "1209        1209  35.125158   59.674904  36.818516   457.0  96.396163   \n",
       "1210        1210  48.484743   61.168511  31.127571   268.0  95.550107   \n",
       "1211        1211  41.036287   61.380097  21.566633   307.0  92.688089   \n",
       "1212        1212  21.874008   59.326323  21.653274   300.0  95.967300   \n",
       "1213        1213  41.485674   60.373935  32.353298   753.0  93.693361   \n",
       "1214        1214  33.392541   60.425229  32.468013   684.0  94.458820   \n",
       "1215        1215  39.937245   61.575731  26.834199   414.0  93.809593   \n",
       "1216        1216  36.731236   60.623234  23.366101   305.0  93.753314   \n",
       "1217        1217  38.752496   60.680489  29.963856   832.0  94.209300   \n",
       "1218        1218  36.754606   60.806960  27.525940   414.0  95.353348   \n",
       "1219        1219  25.980152   60.168281  23.478534   360.0  95.147384   \n",
       "\n",
       "             phi        psi  \n",
       "0     112.055990  88.453847  \n",
       "1     112.178915  88.935233  \n",
       "2     111.944453  89.936702  \n",
       "3     112.312702  88.839966  \n",
       "4     111.800173  89.630417  \n",
       "5     109.197189  94.808984  \n",
       "6     112.250575  90.842411  \n",
       "7     112.242501  89.141475  \n",
       "8     111.949044  88.916328  \n",
       "9     105.923007  90.473960  \n",
       "10    105.841217  82.014398  \n",
       "11     89.273124  67.888512  \n",
       "12     91.033219  67.214054  \n",
       "13     89.241295  78.337125  \n",
       "14    103.935217  82.654942  \n",
       "15    103.762043  79.021435  \n",
       "16    100.181883  80.459119  \n",
       "17     98.137532  76.441809  \n",
       "18    106.094254  90.595914  \n",
       "19    106.094254  90.595914  \n",
       "20    106.094254  90.595914  \n",
       "21    106.127304  90.362463  \n",
       "22    118.969542  95.360907  \n",
       "23     99.256269  79.505894  \n",
       "24    100.197613  74.689460  \n",
       "25    104.300907  80.698555  \n",
       "26    116.108725  85.201387  \n",
       "27    119.938338  92.469627  \n",
       "28    100.575593  82.369167  \n",
       "29     98.250568  76.247124  \n",
       "...          ...        ...  \n",
       "1190   94.573783  78.577791  \n",
       "1191   79.497721  62.755388  \n",
       "1192  103.960367  83.463386  \n",
       "1193  113.731886  90.384651  \n",
       "1194  103.236319  82.888282  \n",
       "1195  113.901820  84.751747  \n",
       "1196  114.177096  84.427330  \n",
       "1197  105.373857  83.332403  \n",
       "1198  103.253146  80.499480  \n",
       "1199  102.947367  80.633069  \n",
       "1200  124.373002  79.015624  \n",
       "1201   97.857688  75.500200  \n",
       "1202  110.302390  85.668108  \n",
       "1203   98.645951  79.965269  \n",
       "1204  117.539733  96.052585  \n",
       "1205   88.330114  69.249987  \n",
       "1206   83.935475  68.134323  \n",
       "1207  103.865781  79.964232  \n",
       "1208  100.656273  78.899307  \n",
       "1209  104.062839  83.925977  \n",
       "1210  114.165671  90.689988  \n",
       "1211  103.449871  77.288925  \n",
       "1212  105.366268  82.205400  \n",
       "1213  100.206575  80.594455  \n",
       "1214   91.600411  73.009080  \n",
       "1215  105.012397  78.716331  \n",
       "1216  105.098165  81.056106  \n",
       "1217  107.836006  83.466854  \n",
       "1218  104.284094  80.343975  \n",
       "1219  100.265233  75.476703  \n",
       "\n",
       "[1220 rows x 8 columns]"
      ]
     },
     "execution_count": 6,
     "metadata": {},
     "output_type": "execute_result"
    }
   ],
   "source": [
    "results"
   ]
  },
  {
   "cell_type": "code",
   "execution_count": 7,
   "metadata": {},
   "outputs": [
    {
     "data": {
      "text/plain": [
       "Unnamed: 0    609.500000\n",
       "RMSD           27.472620\n",
       "bond_angle     60.515423\n",
       "dRMSD          22.019994\n",
       "length        262.553279\n",
       "omega          94.504849\n",
       "phi            99.357256\n",
       "psi            78.059175\n",
       "dtype: float64"
      ]
     },
     "execution_count": 7,
     "metadata": {},
     "output_type": "execute_result"
    }
   ],
   "source": [
    "results.mean()"
   ]
  },
  {
   "cell_type": "code",
   "execution_count": 9,
   "metadata": {},
   "outputs": [
    {
     "data": {
      "image/png": "[encoded data removed]",
      "text/plain": [
       "<matplotlib.figure.Figure at 0x1118dd780>"
      ]
     },
     "metadata": {},
     "output_type": "display_data"
    }
   ],
   "source": [
    "plt.plot(results.length, results.RMSD,'.');\n",
    "plt.xlabel('length')\n",
    "plt.ylabel('RMSD')\n",
    "plt.xlim([0, 1000]);\n",
    "plt.ylim([0, 300]);"
   ]
  },
  {
   "cell_type": "code",
   "execution_count": 10,
   "metadata": {},
   "outputs": [
    {
     "data": {
      "image/png": "[encoded data removed]",
      "text/plain": [
       "<matplotlib.figure.Figure at 0x10e214400>"
      ]
     },
     "metadata": {},
     "output_type": "display_data"
    }
   ],
   "source": [
    "plt.plot(results.RMSD, results.dRMSD,'.');\n",
    "plt.xlabel('RMSD')\n",
    "plt.ylabel('dRMSD')\n",
    "plt.xlim([0, 300]);\n",
    "plt.ylim([0, 300]);"
   ]
  },
  {
   "cell_type": "code",
   "execution_count": 14,
   "metadata": {},
   "outputs": [
    {
     "data": {
      "image/png": "[encoded data removed]",
      "text/plain": [
       "<matplotlib.figure.Figure at 0x1170ff668>"
      ]
     },
     "metadata": {},
     "output_type": "display_data"
    }
   ],
   "source": [
    "plt.plot(results.RMSD, results.bond_angle,'.');\n",
    "plt.xlabel('RMSD')\n",
    "plt.ylabel('Bond angle error')\n",
    "plt.xlim([0, 200]);\n",
    "plt.ylim([0, 100]);"
   ]
  },
  {
   "cell_type": "code",
   "execution_count": 15,
   "metadata": {},
   "outputs": [
    {
     "data": {
      "image/png": "[encoded data removed]",
      "text/plain": [
       "<matplotlib.figure.Figure at 0x1171ddc50>"
      ]
     },
     "metadata": {},
     "output_type": "display_data"
    }
   ],
   "source": [
    "plt.plot(results.RMSD, results.phi,'.');\n",
    "plt.xlabel('RMSD')\n",
    "plt.ylabel('Phi angle error')\n",
    "plt.xlim([0, 100]);\n",
    "plt.ylim([0, 100]);"
   ]
  },
  {
   "cell_type": "code",
   "execution_count": 16,
   "metadata": {},
   "outputs": [
    {
     "data": {
      "image/png": "[encoded data removed]",
      "text/plain": [
       "<matplotlib.figure.Figure at 0x1170ffdd8>"
      ]
     },
     "metadata": {},
     "output_type": "display_data"
    }
   ],
   "source": [
    "plt.plot(results.RMSD, results.psi,'.');\n",
    "plt.xlabel('RMSD')\n",
    "plt.ylabel('Psi angle error')\n",
    "plt.xlim([0, 100]);\n",
    "plt.ylim([0, 100]);"
   ]
  },
  {
   "cell_type": "code",
   "execution_count": 18,
   "metadata": {},
   "outputs": [
    {
     "data": {
      "image/png": "[encoded data removed]",
      "text/plain": [
       "<matplotlib.figure.Figure at 0x117116ba8>"
      ]
     },
     "metadata": {},
     "output_type": "display_data"
    }
   ],
   "source": [
    "plt.plot(results.RMSD, results.omega,'.');\n",
    "plt.xlabel('RMSD')\n",
    "plt.ylabel('Omega angle error')\n",
    "plt.xlim([0, 100]);\n",
    "plt.ylim([0, 150]);"
   ]
  },
  {
   "cell_type": "code",
   "execution_count": 19,
   "metadata": {},
   "outputs": [
    {
     "data": {
      "image/png": "[encoded data removed]",
      "text/plain": [
       "<matplotlib.figure.Figure at 0x116fd6b70>"
      ]
     },
     "metadata": {},
     "output_type": "display_data"
    }
   ],
   "source": [
    "plt.plot(results.phi, results.psi,'.');\n",
    "plt.xlabel('Phi angle error')\n",
    "plt.ylabel('Psi angle error')\n",
    "plt.xlim([0, 100]);\n",
    "plt.ylim([0, 100]);"
   ]
  },
  {
   "cell_type": "code",
   "execution_count": 21,
   "metadata": {},
   "outputs": [
    {
     "data": {
      "image/png": "[encoded data removed]",
      "text/plain": [
       "<matplotlib.figure.Figure at 0x1170d8c88>"
      ]
     },
     "metadata": {},
     "output_type": "display_data"
    }
   ],
   "source": [
    "plt.plot(results.length, results.phi,'.');\n",
    "plt.xlabel('length')\n",
    "plt.ylabel('Phi angle error')\n",
    "plt.xlim([0, 1000]);\n",
    "plt.ylim([0, 100]);"
   ]
  },
  {
   "cell_type": "code",
   "execution_count": 22,
   "metadata": {},
   "outputs": [
    {
     "data": {
      "image/png": "[encoded data removed]",
      "text/plain": [
       "<matplotlib.figure.Figure at 0x1171d2c50>"
      ]
     },
     "metadata": {},
     "output_type": "display_data"
    }
   ],
   "source": [
    "plt.plot(results.length, results.psi,'.');\n",
    "plt.xlabel('length')\n",
    "plt.ylabel('Psi angle error')\n",
    "plt.xlim([0, 1000]);\n",
    "plt.ylim([0, 100]);"
   ]
  },
  {
   "cell_type": "code",
   "execution_count": 191,
   "metadata": {
    "collapsed": true
   },
   "outputs": [],
   "source": [
    "train = read_csv(join(b,'models-lstm3D-2','train.csv'))\n",
    "val =  read_csv(join(b,'models-lstm3D-2','val.csv'))"
   ]
  },
  {
   "cell_type": "code",
   "execution_count": 191,
   "metadata": {
    "collapsed": true
   },
   "outputs": [],
   "source": [
    "train = read_csv(join(b,'models-lstm3D-2','train.csv'))\n",
    "val =  read_csv(join(b,'models-lstm3D-2','val.csv'))"
   ]
  },
  {
   "cell_type": "code",
   "execution_count": 192,
   "metadata": {
    "collapsed": true
   },
   "outputs": [],
   "source": [
    "train = train[39156:]"
   ]
  },
  {
   "cell_type": "code",
   "execution_count": 176,
   "metadata": {
    "collapsed": true
   },
   "outputs": [],
   "source": [
    "train = read_csv(join(b,'models-lstmAng1','train.csv'))\n",
    "val =  read_csv(join(b,'models-lstmAng1','val.csv'))"
   ]
  },
  {
   "cell_type": "code",
   "execution_count": 74,
   "metadata": {
    "collapsed": true
   },
   "outputs": [],
   "source": [
    "train = read_csv(join(b,'models-lstmAng1-3D','train.csv'))\n",
    "val =  read_csv(join(b,'models-lstmAng1-3D','val.csv'))"
   ]
  },
  {
   "cell_type": "code",
   "execution_count": 75,
   "metadata": {
    "scrolled": true
   },
   "outputs": [
    {
     "data": {
      "image/png": "[encoded data removed]",
      "text/plain": [
       "<matplotlib.figure.Figure at 0x10efda320>"
      ]
     },
     "metadata": {},
     "output_type": "display_data"
    }
   ],
   "source": [
    "plt.plot(train.groupby('epoch').mean().loss);\n",
    "plt.plot(val.groupby('epoch').mean().loss);"
   ]
  },
  {
   "cell_type": "markdown",
   "metadata": {},
   "source": [
    "### look at ramachandran plots for predicted"
   ]
  },
  {
   "cell_type": "code",
   "execution_count": 3,
   "metadata": {
    "collapsed": true
   },
   "outputs": [],
   "source": [
    "files = glob(join(b,'val','*.csv'))\n",
    "dfVal = DataFrame([])\n",
    "ind = 0\n",
    "for f in files:\n",
    "    df = read_csv(f)\n",
    "    df['id'] = ind\n",
    "    dfVal = dfVal.append(df)\n",
    "    ind = ind + 1"
   ]
  },
  {
   "cell_type": "code",
   "execution_count": 4,
   "metadata": {
    "collapsed": true
   },
   "outputs": [],
   "source": [
    "#files = glob(join(b,'models-lstm3D-2/model-0030','predict*.csv'))\n",
    "files = glob(join(b,'models-lstmAng1/model-0040','predict*.csv'))\n",
    "files = glob(join(b,'models-lstmAng1-3D/model-0040','predict*.csv'))\n",
    "dfPred = DataFrame([])\n",
    "ind = 0\n",
    "for f in files:\n",
    "    df = read_csv(f)\n",
    "    df['id'] = ind\n",
    "    dfPred = dfPred.append(df)\n",
    "    ind = ind + 1"
   ]
  },
  {
   "cell_type": "code",
   "execution_count": 5,
   "metadata": {},
   "outputs": [
    {
     "data": {
      "image/png": "[encoded data removed]",
      "text/plain": [
       "<matplotlib.figure.Figure at 0x10f489240>"
      ]
     },
     "metadata": {},
     "output_type": "display_data"
    }
   ],
   "source": [
    "from numpy import histogram2d\n",
    "plt.figure(figsize=(12,5))\n",
    "plt.subplot(121)\n",
    "heatmap, xedges, yedges = histogram2d(-dfVal.torsion_angle[2::3], dfVal.torsion_angle[1::3], bins=(64,64), range = [[-180, 180], [-180, 180]])\n",
    "extent = [xedges[0], xedges[-1], yedges[0], yedges[-1]]\n",
    "heatmap = heatmap/heatmap.max() \n",
    "# Plot heatmap\n",
    "plt.title('Ramachandran plot')\n",
    "plt.ylabel('Psi')\n",
    "plt.xlabel('Phi')\n",
    "plt.imshow(heatmap, extent=extent, clim=[0, .01])\n",
    "plt.xlim([-180, 180]);\n",
    "plt.ylim([-180, 180]);\n",
    "\n",
    "plt.subplot(122)\n",
    "heatmap, xedges, yedges = histogram2d(-dfPred.torsion_angle[2::3], dfPred.torsion_angle[1::3], bins=(64,64), range = [[-180, 180], [-180, 180]])\n",
    "extent = [xedges[0], xedges[-1], yedges[0], yedges[-1]]\n",
    "heatmap = heatmap/heatmap.max() \n",
    "# Plot heatmap\n",
    "plt.title('Ramachandran plot')\n",
    "plt.ylabel('Psi')\n",
    "plt.xlabel('Phi')\n",
    "plt.imshow(heatmap, extent=extent, clim=[0, .01])\n",
    "plt.xlim([-180, 180]);\n",
    "plt.ylim([-180, 180]);\n"
   ]
  },
  {
   "cell_type": "code",
   "execution_count": 6,
   "metadata": {},
   "outputs": [
    {
     "data": {
      "image/png": "[encoded data removed]",
      "text/plain": [
       "<matplotlib.figure.Figure at 0x113972f28>"
      ]
     },
     "metadata": {},
     "output_type": "display_data"
    }
   ],
   "source": [
    "from numpy import linspace\n",
    "plt.figure(figsize=(10,3))\n",
    "plt.subplot(121)\n",
    "plt.hist(dfVal.bond_angle[::3], bins=linspace(115,130,40));\n",
    "plt.subplot(122)\n",
    "plt.hist(dfPred.bond_angle[::3], bins=linspace(115,130,40));"
   ]
  },
  {
   "cell_type": "code",
   "execution_count": 7,
   "metadata": {},
   "outputs": [
    {
     "data": {
      "image/png": "[encoded data removed]",
      "text/plain": [
       "<matplotlib.figure.Figure at 0x113d41da0>"
      ]
     },
     "metadata": {},
     "output_type": "display_data"
    }
   ],
   "source": [
    "from numpy import linspace\n",
    "plt.figure(figsize=(10,3))\n",
    "plt.subplot(121)\n",
    "plt.hist(dfVal.bond_angle[1::3], bins=linspace(100,125,40));\n",
    "plt.subplot(122)\n",
    "plt.hist(dfPred.bond_angle[1::3], bins=linspace(100,125,40));"
   ]
  },
  {
   "cell_type": "code",
   "execution_count": 8,
   "metadata": {},
   "outputs": [
    {
     "data": {
      "image/png": "[encoded data removed]",
      "text/plain": [
       "<matplotlib.figure.Figure at 0x1160a89e8>"
      ]
     },
     "metadata": {},
     "output_type": "display_data"
    }
   ],
   "source": [
    "from numpy import linspace\n",
    "plt.figure(figsize=(10,3))\n",
    "plt.subplot(121)\n",
    "plt.hist(dfVal.bond_angle[2::3], bins=linspace(110,125,40));\n",
    "plt.subplot(122)\n",
    "plt.hist(dfPred.bond_angle[2::3], bins=linspace(110,125,40));"
   ]
  },
  {
   "cell_type": "code",
   "execution_count": 9,
   "metadata": {},
   "outputs": [
    {
     "data": {
      "image/png": "[encoded data removed]",
      "text/plain": [
       "<matplotlib.figure.Figure at 0x11636fa58>"
      ]
     },
     "metadata": {},
     "output_type": "display_data"
    }
   ],
   "source": [
    "from numpy import linspace\n",
    "plt.figure(figsize=(10,3))\n",
    "plt.subplot(121)\n",
    "ang = dfVal.torsion_angle[::3]\n",
    "plt.hist(ang, bins=linspace(160,200,40));\n",
    "plt.subplot(122)\n",
    "ang = dfPred.torsion_angle[::3]\n",
    "plt.hist(ang, bins=linspace(160,200,40));"
   ]
  },
  {
   "cell_type": "code",
   "execution_count": 10,
   "metadata": {},
   "outputs": [
    {
     "data": {
      "image/png": "[encoded data removed]",
      "text/plain": [
       "<matplotlib.figure.Figure at 0x11648fac8>"
      ]
     },
     "metadata": {},
     "output_type": "display_data"
    }
   ],
   "source": [
    "from numpy import linspace, nan\n",
    "plt.figure(figsize=(10,3))\n",
    "plt.subplot(121)\n",
    "ang = dfVal.torsion_angle[::3]\n",
    "ang[dfVal.res[::3] == 0] = -100\n",
    "ang[ang>180] = ang[ang>180]-360\n",
    "plt.hist(ang, bins=linspace(-5,5,40));\n",
    "plt.subplot(122)\n",
    "ang = dfPred.torsion_angle[::3]\n",
    "ang[ang>180] = ang[ang>180]-360\n",
    "plt.hist(ang, bins=linspace(-5,5,40));"
   ]
  },
  {
   "cell_type": "markdown",
   "metadata": {
    "collapsed": true
   },
   "source": [
    "## 3D plots"
   ]
  },
  {
   "cell_type": "code",
   "execution_count": 11,
   "metadata": {},
   "outputs": [
    {
     "data": {
      "image/png": "[encoded data removed]",
      "text/plain": [
       "<matplotlib.figure.Figure at 0x11657c3c8>"
      ]
     },
     "metadata": {},
     "output_type": "display_data"
    }
   ],
   "source": [
    "protein_id = 10\n",
    "\n",
    "plt.figure(figsize=(12,3))\n",
    "plt.subplot(131)\n",
    "plt.plot(dfVal[dfPred.id==protein_id].x, dfVal[dfPred.id==protein_id].y);\n",
    "plt.plot(dfPred[dfPred.id==protein_id].x, dfPred[dfPred.id==protein_id].y);\n",
    "plt.axis('equal')\n",
    "plt.subplot(132)\n",
    "plt.plot(dfVal[dfPred.id==protein_id].x, dfVal[dfPred.id==protein_id].z);\n",
    "plt.plot(dfPred[dfPred.id==protein_id].x, dfPred[dfPred.id==protein_id].z);\n",
    "plt.axis('equal')\n",
    "plt.subplot(133)\n",
    "plt.plot(dfVal[dfPred.id==protein_id].y, dfVal[dfPred.id==protein_id].z);\n",
    "plt.plot(dfPred[dfPred.id==protein_id].y, dfPred[dfPred.id==protein_id].z);\n",
    "plt.axis('equal');"
   ]
  },
  {
   "cell_type": "code",
   "execution_count": 12,
   "metadata": {},
   "outputs": [
    {
     "data": {
      "text/html": [
       "<div>\n",
       "<style>\n",
       "    .dataframe thead tr:only-child th {\n",
       "        text-align: right;\n",
       "    }\n",
       "\n",
       "    .dataframe thead th {\n",
       "        text-align: left;\n",
       "    }\n",
       "\n",
       "    .dataframe tbody tr th {\n",
       "        vertical-align: top;\n",
       "    }\n",
       "</style>\n",
       "<table border=\"1\" class=\"dataframe\">\n",
       "  <thead>\n",
       "    <tr style=\"text-align: right;\">\n",
       "      <th></th>\n",
       "      <th>Unnamed: 0</th>\n",
       "      <th>bond_angle</th>\n",
       "      <th>torsion_angle</th>\n",
       "      <th>x</th>\n",
       "      <th>y</th>\n",
       "      <th>z</th>\n",
       "      <th>id</th>\n",
       "    </tr>\n",
       "  </thead>\n",
       "  <tbody>\n",
       "    <tr>\n",
       "      <th>0</th>\n",
       "      <td>0</td>\n",
       "      <td>0.517310</td>\n",
       "      <td>0.492144</td>\n",
       "      <td>72.586000</td>\n",
       "      <td>44.090000</td>\n",
       "      <td>7.476000</td>\n",
       "      <td>10</td>\n",
       "    </tr>\n",
       "    <tr>\n",
       "      <th>1</th>\n",
       "      <td>1</td>\n",
       "      <td>110.840300</td>\n",
       "      <td>-2.844545</td>\n",
       "      <td>73.748000</td>\n",
       "      <td>43.226000</td>\n",
       "      <td>7.485000</td>\n",
       "      <td>10</td>\n",
       "    </tr>\n",
       "    <tr>\n",
       "      <th>2</th>\n",
       "      <td>2</td>\n",
       "      <td>116.314125</td>\n",
       "      <td>168.264270</td>\n",
       "      <td>73.574000</td>\n",
       "      <td>41.978000</td>\n",
       "      <td>8.345000</td>\n",
       "      <td>10</td>\n",
       "    </tr>\n",
       "    <tr>\n",
       "      <th>3</th>\n",
       "      <td>3</td>\n",
       "      <td>122.914154</td>\n",
       "      <td>178.798420</td>\n",
       "      <td>74.498955</td>\n",
       "      <td>41.033127</td>\n",
       "      <td>8.206455</td>\n",
       "      <td>10</td>\n",
       "    </tr>\n",
       "    <tr>\n",
       "      <th>4</th>\n",
       "      <td>4</td>\n",
       "      <td>110.697430</td>\n",
       "      <td>-88.644480</td>\n",
       "      <td>74.487305</td>\n",
       "      <td>39.793827</td>\n",
       "      <td>8.975425</td>\n",
       "      <td>10</td>\n",
       "    </tr>\n",
       "    <tr>\n",
       "      <th>5</th>\n",
       "      <td>5</td>\n",
       "      <td>116.479800</td>\n",
       "      <td>122.633545</td>\n",
       "      <td>75.241844</td>\n",
       "      <td>39.967438</td>\n",
       "      <td>10.289339</td>\n",
       "      <td>10</td>\n",
       "    </tr>\n",
       "    <tr>\n",
       "      <th>6</th>\n",
       "      <td>6</td>\n",
       "      <td>120.433290</td>\n",
       "      <td>179.403980</td>\n",
       "      <td>74.561340</td>\n",
       "      <td>39.711290</td>\n",
       "      <td>11.401819</td>\n",
       "      <td>10</td>\n",
       "    </tr>\n",
       "    <tr>\n",
       "      <th>7</th>\n",
       "      <td>7</td>\n",
       "      <td>110.400580</td>\n",
       "      <td>-90.213280</td>\n",
       "      <td>75.202490</td>\n",
       "      <td>39.837020</td>\n",
       "      <td>12.705262</td>\n",
       "      <td>10</td>\n",
       "    </tr>\n",
       "    <tr>\n",
       "      <th>8</th>\n",
       "      <td>8</td>\n",
       "      <td>116.280060</td>\n",
       "      <td>114.667625</td>\n",
       "      <td>75.837010</td>\n",
       "      <td>38.512383</td>\n",
       "      <td>13.115567</td>\n",
       "      <td>10</td>\n",
       "    </tr>\n",
       "    <tr>\n",
       "      <th>9</th>\n",
       "      <td>9</td>\n",
       "      <td>121.158100</td>\n",
       "      <td>179.172780</td>\n",
       "      <td>77.162186</td>\n",
       "      <td>38.500748</td>\n",
       "      <td>13.215719</td>\n",
       "      <td>10</td>\n",
       "    </tr>\n",
       "    <tr>\n",
       "      <th>10</th>\n",
       "      <td>10</td>\n",
       "      <td>110.993070</td>\n",
       "      <td>-82.659250</td>\n",
       "      <td>77.877770</td>\n",
       "      <td>37.295746</td>\n",
       "      <td>13.617818</td>\n",
       "      <td>10</td>\n",
       "    </tr>\n",
       "    <tr>\n",
       "      <th>11</th>\n",
       "      <td>11</td>\n",
       "      <td>116.898160</td>\n",
       "      <td>143.528350</td>\n",
       "      <td>77.889140</td>\n",
       "      <td>37.147915</td>\n",
       "      <td>15.135593</td>\n",
       "      <td>10</td>\n",
       "    </tr>\n",
       "    <tr>\n",
       "      <th>12</th>\n",
       "      <td>12</td>\n",
       "      <td>121.210410</td>\n",
       "      <td>179.374450</td>\n",
       "      <td>77.791390</td>\n",
       "      <td>35.914318</td>\n",
       "      <td>15.620283</td>\n",
       "      <td>10</td>\n",
       "    </tr>\n",
       "    <tr>\n",
       "      <th>13</th>\n",
       "      <td>13</td>\n",
       "      <td>111.435295</td>\n",
       "      <td>-82.999470</td>\n",
       "      <td>77.806330</td>\n",
       "      <td>35.663483</td>\n",
       "      <td>17.056465</td>\n",
       "      <td>10</td>\n",
       "    </tr>\n",
       "    <tr>\n",
       "      <th>14</th>\n",
       "      <td>14</td>\n",
       "      <td>115.984560</td>\n",
       "      <td>0.337416</td>\n",
       "      <td>79.230850</td>\n",
       "      <td>35.611828</td>\n",
       "      <td>17.598404</td>\n",
       "      <td>10</td>\n",
       "    </tr>\n",
       "    <tr>\n",
       "      <th>15</th>\n",
       "      <td>15</td>\n",
       "      <td>121.916214</td>\n",
       "      <td>-179.742520</td>\n",
       "      <td>80.199520</td>\n",
       "      <td>35.803944</td>\n",
       "      <td>16.709011</td>\n",
       "      <td>10</td>\n",
       "    </tr>\n",
       "    <tr>\n",
       "      <th>16</th>\n",
       "      <td>16</td>\n",
       "      <td>111.995660</td>\n",
       "      <td>-93.117440</td>\n",
       "      <td>81.607900</td>\n",
       "      <td>35.776073</td>\n",
       "      <td>17.085096</td>\n",
       "      <td>10</td>\n",
       "    </tr>\n",
       "    <tr>\n",
       "      <th>17</th>\n",
       "      <td>17</td>\n",
       "      <td>116.661540</td>\n",
       "      <td>55.607903</td>\n",
       "      <td>82.138660</td>\n",
       "      <td>37.167175</td>\n",
       "      <td>17.414890</td>\n",
       "      <td>10</td>\n",
       "    </tr>\n",
       "    <tr>\n",
       "      <th>18</th>\n",
       "      <td>18</td>\n",
       "      <td>120.986140</td>\n",
       "      <td>178.694370</td>\n",
       "      <td>81.488525</td>\n",
       "      <td>37.846275</td>\n",
       "      <td>18.354250</td>\n",
       "      <td>10</td>\n",
       "    </tr>\n",
       "    <tr>\n",
       "      <th>19</th>\n",
       "      <td>19</td>\n",
       "      <td>113.106820</td>\n",
       "      <td>119.156660</td>\n",
       "      <td>81.931940</td>\n",
       "      <td>39.173523</td>\n",
       "      <td>18.763600</td>\n",
       "      <td>10</td>\n",
       "    </tr>\n",
       "    <tr>\n",
       "      <th>20</th>\n",
       "      <td>20</td>\n",
       "      <td>116.381990</td>\n",
       "      <td>31.031527</td>\n",
       "      <td>80.884830</td>\n",
       "      <td>40.255455</td>\n",
       "      <td>18.521503</td>\n",
       "      <td>10</td>\n",
       "    </tr>\n",
       "    <tr>\n",
       "      <th>21</th>\n",
       "      <td>21</td>\n",
       "      <td>121.506615</td>\n",
       "      <td>179.092760</td>\n",
       "      <td>79.613780</td>\n",
       "      <td>39.877120</td>\n",
       "      <td>18.608307</td>\n",
       "      <td>10</td>\n",
       "    </tr>\n",
       "    <tr>\n",
       "      <th>22</th>\n",
       "      <td>22</td>\n",
       "      <td>110.552720</td>\n",
       "      <td>-102.352220</td>\n",
       "      <td>78.522064</td>\n",
       "      <td>40.824345</td>\n",
       "      <td>18.416758</td>\n",
       "      <td>10</td>\n",
       "    </tr>\n",
       "    <tr>\n",
       "      <th>23</th>\n",
       "      <td>23</td>\n",
       "      <td>116.257490</td>\n",
       "      <td>118.375310</td>\n",
       "      <td>77.926956</td>\n",
       "      <td>41.234116</td>\n",
       "      <td>19.759726</td>\n",
       "      <td>10</td>\n",
       "    </tr>\n",
       "    <tr>\n",
       "      <th>24</th>\n",
       "      <td>24</td>\n",
       "      <td>121.472275</td>\n",
       "      <td>179.003360</td>\n",
       "      <td>78.007720</td>\n",
       "      <td>42.523956</td>\n",
       "      <td>20.069607</td>\n",
       "      <td>10</td>\n",
       "    </tr>\n",
       "    <tr>\n",
       "      <th>25</th>\n",
       "      <td>25</td>\n",
       "      <td>109.905470</td>\n",
       "      <td>-97.877400</td>\n",
       "      <td>77.456590</td>\n",
       "      <td>43.043465</td>\n",
       "      <td>21.315450</td>\n",
       "      <td>10</td>\n",
       "    </tr>\n",
       "    <tr>\n",
       "      <th>26</th>\n",
       "      <td>26</td>\n",
       "      <td>116.559740</td>\n",
       "      <td>137.607830</td>\n",
       "      <td>76.077070</td>\n",
       "      <td>43.642494</td>\n",
       "      <td>21.063026</td>\n",
       "      <td>10</td>\n",
       "    </tr>\n",
       "    <tr>\n",
       "      <th>27</th>\n",
       "      <td>27</td>\n",
       "      <td>121.275910</td>\n",
       "      <td>178.605990</td>\n",
       "      <td>75.137770</td>\n",
       "      <td>43.371544</td>\n",
       "      <td>21.963330</td>\n",
       "      <td>10</td>\n",
       "    </tr>\n",
       "    <tr>\n",
       "      <th>28</th>\n",
       "      <td>28</td>\n",
       "      <td>110.038185</td>\n",
       "      <td>-97.764670</td>\n",
       "      <td>73.790930</td>\n",
       "      <td>43.915993</td>\n",
       "      <td>21.839369</td>\n",
       "      <td>10</td>\n",
       "    </tr>\n",
       "    <tr>\n",
       "      <th>29</th>\n",
       "      <td>29</td>\n",
       "      <td>115.874535</td>\n",
       "      <td>135.662280</td>\n",
       "      <td>73.648150</td>\n",
       "      <td>45.160213</td>\n",
       "      <td>22.709517</td>\n",
       "      <td>10</td>\n",
       "    </tr>\n",
       "    <tr>\n",
       "      <th>...</th>\n",
       "      <td>...</td>\n",
       "      <td>...</td>\n",
       "      <td>...</td>\n",
       "      <td>...</td>\n",
       "      <td>...</td>\n",
       "      <td>...</td>\n",
       "      <td>...</td>\n",
       "    </tr>\n",
       "    <tr>\n",
       "      <th>870</th>\n",
       "      <td>870</td>\n",
       "      <td>121.336075</td>\n",
       "      <td>179.447920</td>\n",
       "      <td>-156.356380</td>\n",
       "      <td>30.514378</td>\n",
       "      <td>52.903904</td>\n",
       "      <td>10</td>\n",
       "    </tr>\n",
       "    <tr>\n",
       "      <th>871</th>\n",
       "      <td>871</td>\n",
       "      <td>111.828130</td>\n",
       "      <td>-73.529950</td>\n",
       "      <td>-156.634000</td>\n",
       "      <td>30.257020</td>\n",
       "      <td>51.495895</td>\n",
       "      <td>10</td>\n",
       "    </tr>\n",
       "    <tr>\n",
       "      <th>872</th>\n",
       "      <td>872</td>\n",
       "      <td>117.178530</td>\n",
       "      <td>-47.297512</td>\n",
       "      <td>-156.772700</td>\n",
       "      <td>31.550255</td>\n",
       "      <td>50.699696</td>\n",
       "      <td>10</td>\n",
       "    </tr>\n",
       "    <tr>\n",
       "      <th>873</th>\n",
       "      <td>873</td>\n",
       "      <td>121.401535</td>\n",
       "      <td>179.115630</td>\n",
       "      <td>-157.545400</td>\n",
       "      <td>32.500680</td>\n",
       "      <td>51.215343</td>\n",
       "      <td>10</td>\n",
       "    </tr>\n",
       "    <tr>\n",
       "      <th>874</th>\n",
       "      <td>874</td>\n",
       "      <td>111.723724</td>\n",
       "      <td>-80.896545</td>\n",
       "      <td>-157.727660</td>\n",
       "      <td>33.780533</td>\n",
       "      <td>50.541157</td>\n",
       "      <td>10</td>\n",
       "    </tr>\n",
       "    <tr>\n",
       "      <th>875</th>\n",
       "      <td>875</td>\n",
       "      <td>116.632580</td>\n",
       "      <td>-49.940495</td>\n",
       "      <td>-156.562520</td>\n",
       "      <td>34.728420</td>\n",
       "      <td>50.804905</td>\n",
       "      <td>10</td>\n",
       "    </tr>\n",
       "    <tr>\n",
       "      <th>876</th>\n",
       "      <td>876</td>\n",
       "      <td>121.962280</td>\n",
       "      <td>178.544240</td>\n",
       "      <td>-156.201630</td>\n",
       "      <td>34.890236</td>\n",
       "      <td>52.073690</td>\n",
       "      <td>10</td>\n",
       "    </tr>\n",
       "    <tr>\n",
       "      <th>877</th>\n",
       "      <td>877</td>\n",
       "      <td>110.342575</td>\n",
       "      <td>-81.601300</td>\n",
       "      <td>-155.083400</td>\n",
       "      <td>35.744550</td>\n",
       "      <td>52.455105</td>\n",
       "      <td>10</td>\n",
       "    </tr>\n",
       "    <tr>\n",
       "      <th>878</th>\n",
       "      <td>878</td>\n",
       "      <td>116.014560</td>\n",
       "      <td>-31.873463</td>\n",
       "      <td>-153.764110</td>\n",
       "      <td>34.999180</td>\n",
       "      <td>52.283270</td>\n",
       "      <td>10</td>\n",
       "    </tr>\n",
       "    <tr>\n",
       "      <th>879</th>\n",
       "      <td>879</td>\n",
       "      <td>120.823044</td>\n",
       "      <td>179.345490</td>\n",
       "      <td>-153.805760</td>\n",
       "      <td>33.686290</td>\n",
       "      <td>52.485336</td>\n",
       "      <td>10</td>\n",
       "    </tr>\n",
       "    <tr>\n",
       "      <th>880</th>\n",
       "      <td>880</td>\n",
       "      <td>111.400670</td>\n",
       "      <td>-76.548930</td>\n",
       "      <td>-152.607760</td>\n",
       "      <td>32.868958</td>\n",
       "      <td>52.335200</td>\n",
       "      <td>10</td>\n",
       "    </tr>\n",
       "    <tr>\n",
       "      <th>881</th>\n",
       "      <td>881</td>\n",
       "      <td>117.240440</td>\n",
       "      <td>-24.998459</td>\n",
       "      <td>-152.277190</td>\n",
       "      <td>32.630787</td>\n",
       "      <td>50.865635</td>\n",
       "      <td>10</td>\n",
       "    </tr>\n",
       "    <tr>\n",
       "      <th>882</th>\n",
       "      <td>882</td>\n",
       "      <td>121.078930</td>\n",
       "      <td>179.259050</td>\n",
       "      <td>-153.280550</td>\n",
       "      <td>32.702340</td>\n",
       "      <td>49.997078</td>\n",
       "      <td>10</td>\n",
       "    </tr>\n",
       "    <tr>\n",
       "      <th>883</th>\n",
       "      <td>883</td>\n",
       "      <td>111.500030</td>\n",
       "      <td>-74.111250</td>\n",
       "      <td>-153.056260</td>\n",
       "      <td>32.504710</td>\n",
       "      <td>48.570057</td>\n",
       "      <td>10</td>\n",
       "    </tr>\n",
       "    <tr>\n",
       "      <th>884</th>\n",
       "      <td>884</td>\n",
       "      <td>116.415340</td>\n",
       "      <td>-33.474010</td>\n",
       "      <td>-152.366730</td>\n",
       "      <td>33.710410</td>\n",
       "      <td>47.940410</td>\n",
       "      <td>10</td>\n",
       "    </tr>\n",
       "    <tr>\n",
       "      <th>885</th>\n",
       "      <td>885</td>\n",
       "      <td>121.347305</td>\n",
       "      <td>179.233780</td>\n",
       "      <td>-152.672210</td>\n",
       "      <td>34.899136</td>\n",
       "      <td>48.450170</td>\n",
       "      <td>10</td>\n",
       "    </tr>\n",
       "    <tr>\n",
       "      <th>886</th>\n",
       "      <td>886</td>\n",
       "      <td>111.140790</td>\n",
       "      <td>-92.123820</td>\n",
       "      <td>-152.063310</td>\n",
       "      <td>36.122047</td>\n",
       "      <td>47.940777</td>\n",
       "      <td>10</td>\n",
       "    </tr>\n",
       "    <tr>\n",
       "      <th>887</th>\n",
       "      <td>887</td>\n",
       "      <td>116.233130</td>\n",
       "      <td>42.656006</td>\n",
       "      <td>-150.805650</td>\n",
       "      <td>36.478700</td>\n",
       "      <td>48.726093</td>\n",
       "      <td>10</td>\n",
       "    </tr>\n",
       "    <tr>\n",
       "      <th>888</th>\n",
       "      <td>888</td>\n",
       "      <td>121.782960</td>\n",
       "      <td>179.190500</td>\n",
       "      <td>-149.989320</td>\n",
       "      <td>35.471150</td>\n",
       "      <td>49.017117</td>\n",
       "      <td>10</td>\n",
       "    </tr>\n",
       "    <tr>\n",
       "      <th>889</th>\n",
       "      <td>889</td>\n",
       "      <td>110.206110</td>\n",
       "      <td>-92.655050</td>\n",
       "      <td>-148.744750</td>\n",
       "      <td>35.677680</td>\n",
       "      <td>49.747986</td>\n",
       "      <td>10</td>\n",
       "    </tr>\n",
       "    <tr>\n",
       "      <th>890</th>\n",
       "      <td>890</td>\n",
       "      <td>116.639560</td>\n",
       "      <td>116.119590</td>\n",
       "      <td>-147.590970</td>\n",
       "      <td>35.890823</td>\n",
       "      <td>48.773820</td>\n",
       "      <td>10</td>\n",
       "    </tr>\n",
       "    <tr>\n",
       "      <th>891</th>\n",
       "      <td>891</td>\n",
       "      <td>121.139230</td>\n",
       "      <td>179.296280</td>\n",
       "      <td>-146.992540</td>\n",
       "      <td>37.076940</td>\n",
       "      <td>48.809265</td>\n",
       "      <td>10</td>\n",
       "    </tr>\n",
       "    <tr>\n",
       "      <th>892</th>\n",
       "      <td>892</td>\n",
       "      <td>111.169510</td>\n",
       "      <td>-87.725310</td>\n",
       "      <td>-145.868850</td>\n",
       "      <td>37.381027</td>\n",
       "      <td>47.931400</td>\n",
       "      <td>10</td>\n",
       "    </tr>\n",
       "    <tr>\n",
       "      <th>893</th>\n",
       "      <td>893</td>\n",
       "      <td>115.271050</td>\n",
       "      <td>115.810356</td>\n",
       "      <td>-144.546460</td>\n",
       "      <td>36.959920</td>\n",
       "      <td>48.563538</td>\n",
       "      <td>10</td>\n",
       "    </tr>\n",
       "    <tr>\n",
       "      <th>894</th>\n",
       "      <td>894</td>\n",
       "      <td>121.088640</td>\n",
       "      <td>179.706970</td>\n",
       "      <td>-143.890340</td>\n",
       "      <td>35.999840</td>\n",
       "      <td>47.920116</td>\n",
       "      <td>10</td>\n",
       "    </tr>\n",
       "    <tr>\n",
       "      <th>895</th>\n",
       "      <td>895</td>\n",
       "      <td>111.519240</td>\n",
       "      <td>-77.215385</td>\n",
       "      <td>-142.609330</td>\n",
       "      <td>35.504925</td>\n",
       "      <td>48.409860</td>\n",
       "      <td>10</td>\n",
       "    </tr>\n",
       "    <tr>\n",
       "      <th>896</th>\n",
       "      <td>896</td>\n",
       "      <td>117.380620</td>\n",
       "      <td>-11.307202</td>\n",
       "      <td>-141.474990</td>\n",
       "      <td>36.470740</td>\n",
       "      <td>48.084152</td>\n",
       "      <td>10</td>\n",
       "    </tr>\n",
       "    <tr>\n",
       "      <th>897</th>\n",
       "      <td>897</td>\n",
       "      <td>121.405075</td>\n",
       "      <td>-179.444410</td>\n",
       "      <td>-141.738980</td>\n",
       "      <td>37.460230</td>\n",
       "      <td>47.237133</td>\n",
       "      <td>10</td>\n",
       "    </tr>\n",
       "    <tr>\n",
       "      <th>898</th>\n",
       "      <td>898</td>\n",
       "      <td>112.289030</td>\n",
       "      <td>-90.963806</td>\n",
       "      <td>-140.716200</td>\n",
       "      <td>38.426530</td>\n",
       "      <td>46.855140</td>\n",
       "      <td>10</td>\n",
       "    </tr>\n",
       "    <tr>\n",
       "      <th>899</th>\n",
       "      <td>899</td>\n",
       "      <td>0.619048</td>\n",
       "      <td>-8.844939</td>\n",
       "      <td>-140.701930</td>\n",
       "      <td>39.646053</td>\n",
       "      <td>47.770660</td>\n",
       "      <td>10</td>\n",
       "    </tr>\n",
       "  </tbody>\n",
       "</table>\n",
       "<p>900 rows × 7 columns</p>\n",
       "</div>"
      ],
      "text/plain": [
       "     Unnamed: 0  bond_angle  torsion_angle           x          y          z  \\\n",
       "0             0    0.517310       0.492144   72.586000  44.090000   7.476000   \n",
       "1             1  110.840300      -2.844545   73.748000  43.226000   7.485000   \n",
       "2             2  116.314125     168.264270   73.574000  41.978000   8.345000   \n",
       "3             3  122.914154     178.798420   74.498955  41.033127   8.206455   \n",
       "4             4  110.697430     -88.644480   74.487305  39.793827   8.975425   \n",
       "5             5  116.479800     122.633545   75.241844  39.967438  10.289339   \n",
       "6             6  120.433290     179.403980   74.561340  39.711290  11.401819   \n",
       "7             7  110.400580     -90.213280   75.202490  39.837020  12.705262   \n",
       "8             8  116.280060     114.667625   75.837010  38.512383  13.115567   \n",
       "9             9  121.158100     179.172780   77.162186  38.500748  13.215719   \n",
       "10           10  110.993070     -82.659250   77.877770  37.295746  13.617818   \n",
       "11           11  116.898160     143.528350   77.889140  37.147915  15.135593   \n",
       "12           12  121.210410     179.374450   77.791390  35.914318  15.620283   \n",
       "13           13  111.435295     -82.999470   77.806330  35.663483  17.056465   \n",
       "14           14  115.984560       0.337416   79.230850  35.611828  17.598404   \n",
       "15           15  121.916214    -179.742520   80.199520  35.803944  16.709011   \n",
       "16           16  111.995660     -93.117440   81.607900  35.776073  17.085096   \n",
       "17           17  116.661540      55.607903   82.138660  37.167175  17.414890   \n",
       "18           18  120.986140     178.694370   81.488525  37.846275  18.354250   \n",
       "19           19  113.106820     119.156660   81.931940  39.173523  18.763600   \n",
       "20           20  116.381990      31.031527   80.884830  40.255455  18.521503   \n",
       "21           21  121.506615     179.092760   79.613780  39.877120  18.608307   \n",
       "22           22  110.552720    -102.352220   78.522064  40.824345  18.416758   \n",
       "23           23  116.257490     118.375310   77.926956  41.234116  19.759726   \n",
       "24           24  121.472275     179.003360   78.007720  42.523956  20.069607   \n",
       "25           25  109.905470     -97.877400   77.456590  43.043465  21.315450   \n",
       "26           26  116.559740     137.607830   76.077070  43.642494  21.063026   \n",
       "27           27  121.275910     178.605990   75.137770  43.371544  21.963330   \n",
       "28           28  110.038185     -97.764670   73.790930  43.915993  21.839369   \n",
       "29           29  115.874535     135.662280   73.648150  45.160213  22.709517   \n",
       "..          ...         ...            ...         ...        ...        ...   \n",
       "870         870  121.336075     179.447920 -156.356380  30.514378  52.903904   \n",
       "871         871  111.828130     -73.529950 -156.634000  30.257020  51.495895   \n",
       "872         872  117.178530     -47.297512 -156.772700  31.550255  50.699696   \n",
       "873         873  121.401535     179.115630 -157.545400  32.500680  51.215343   \n",
       "874         874  111.723724     -80.896545 -157.727660  33.780533  50.541157   \n",
       "875         875  116.632580     -49.940495 -156.562520  34.728420  50.804905   \n",
       "876         876  121.962280     178.544240 -156.201630  34.890236  52.073690   \n",
       "877         877  110.342575     -81.601300 -155.083400  35.744550  52.455105   \n",
       "878         878  116.014560     -31.873463 -153.764110  34.999180  52.283270   \n",
       "879         879  120.823044     179.345490 -153.805760  33.686290  52.485336   \n",
       "880         880  111.400670     -76.548930 -152.607760  32.868958  52.335200   \n",
       "881         881  117.240440     -24.998459 -152.277190  32.630787  50.865635   \n",
       "882         882  121.078930     179.259050 -153.280550  32.702340  49.997078   \n",
       "883         883  111.500030     -74.111250 -153.056260  32.504710  48.570057   \n",
       "884         884  116.415340     -33.474010 -152.366730  33.710410  47.940410   \n",
       "885         885  121.347305     179.233780 -152.672210  34.899136  48.450170   \n",
       "886         886  111.140790     -92.123820 -152.063310  36.122047  47.940777   \n",
       "887         887  116.233130      42.656006 -150.805650  36.478700  48.726093   \n",
       "888         888  121.782960     179.190500 -149.989320  35.471150  49.017117   \n",
       "889         889  110.206110     -92.655050 -148.744750  35.677680  49.747986   \n",
       "890         890  116.639560     116.119590 -147.590970  35.890823  48.773820   \n",
       "891         891  121.139230     179.296280 -146.992540  37.076940  48.809265   \n",
       "892         892  111.169510     -87.725310 -145.868850  37.381027  47.931400   \n",
       "893         893  115.271050     115.810356 -144.546460  36.959920  48.563538   \n",
       "894         894  121.088640     179.706970 -143.890340  35.999840  47.920116   \n",
       "895         895  111.519240     -77.215385 -142.609330  35.504925  48.409860   \n",
       "896         896  117.380620     -11.307202 -141.474990  36.470740  48.084152   \n",
       "897         897  121.405075    -179.444410 -141.738980  37.460230  47.237133   \n",
       "898         898  112.289030     -90.963806 -140.716200  38.426530  46.855140   \n",
       "899         899    0.619048      -8.844939 -140.701930  39.646053  47.770660   \n",
       "\n",
       "     id  \n",
       "0    10  \n",
       "1    10  \n",
       "2    10  \n",
       "3    10  \n",
       "4    10  \n",
       "5    10  \n",
       "6    10  \n",
       "7    10  \n",
       "8    10  \n",
       "9    10  \n",
       "10   10  \n",
       "11   10  \n",
       "12   10  \n",
       "13   10  \n",
       "14   10  \n",
       "15   10  \n",
       "16   10  \n",
       "17   10  \n",
       "18   10  \n",
       "19   10  \n",
       "20   10  \n",
       "21   10  \n",
       "22   10  \n",
       "23   10  \n",
       "24   10  \n",
       "25   10  \n",
       "26   10  \n",
       "27   10  \n",
       "28   10  \n",
       "29   10  \n",
       "..   ..  \n",
       "870  10  \n",
       "871  10  \n",
       "872  10  \n",
       "873  10  \n",
       "874  10  \n",
       "875  10  \n",
       "876  10  \n",
       "877  10  \n",
       "878  10  \n",
       "879  10  \n",
       "880  10  \n",
       "881  10  \n",
       "882  10  \n",
       "883  10  \n",
       "884  10  \n",
       "885  10  \n",
       "886  10  \n",
       "887  10  \n",
       "888  10  \n",
       "889  10  \n",
       "890  10  \n",
       "891  10  \n",
       "892  10  \n",
       "893  10  \n",
       "894  10  \n",
       "895  10  \n",
       "896  10  \n",
       "897  10  \n",
       "898  10  \n",
       "899  10  \n",
       "\n",
       "[900 rows x 7 columns]"
      ]
     },
     "execution_count": 12,
     "metadata": {},
     "output_type": "execute_result"
    }
   ],
   "source": [
    "dfPred[dfPred.id==protein_id]"
   ]
  },
  {
   "cell_type": "code",
   "execution_count": 13,
   "metadata": {},
   "outputs": [],
   "source": [
    "from numpy import stack\n",
    "from numpy.linalg import norm"
   ]
  },
  {
   "cell_type": "code",
   "execution_count": 14,
   "metadata": {
    "collapsed": true
   },
   "outputs": [],
   "source": [
    "coords_in = stack([dfVal[dfVal.id==protein_id].x, dfVal[dfVal.id==protein_id].y, dfVal[dfVal.id==protein_id].z], axis=1)\n",
    "coords_pred = stack([dfPred[dfPred.id==protein_id].x, dfPred[dfPred.id==protein_id].y, dfPred[dfPred.id==protein_id].z], axis=1)"
   ]
  },
  {
   "cell_type": "code",
   "execution_count": 43,
   "metadata": {
    "collapsed": true
   },
   "outputs": [],
   "source": [
    "from scipy.spatial.distance import pdist\n",
    "def dRMSD(x, y):\n",
    "    return norm(pdist(x) - pdist(y))/((len(x)*(len(x)-1)/2)**(0.5))"
   ]
  },
  {
   "cell_type": "code",
   "execution_count": 44,
   "metadata": {},
   "outputs": [
    {
     "data": {
      "text/plain": [
       "88.754447798442115"
      ]
     },
     "execution_count": 44,
     "metadata": {},
     "output_type": "execute_result"
    }
   ],
   "source": [
    "dRMSD(coords_in, coords_pred)"
   ]
  },
  {
   "cell_type": "code",
   "execution_count": 15,
   "metadata": {
    "collapsed": true
   },
   "outputs": [],
   "source": [
    "from torch.autograd import Variable\n",
    "from torch import FloatTensor"
   ]
  },
  {
   "cell_type": "code",
   "execution_count": 49,
   "metadata": {
    "collapsed": true
   },
   "outputs": [],
   "source": [
    "x = Variable(FloatTensor(coords_in))\n",
    "y = Variable(FloatTensor(coords_pred))"
   ]
  },
  {
   "cell_type": "code",
   "execution_count": 50,
   "metadata": {
    "collapsed": true
   },
   "outputs": [],
   "source": [
    "from torch import transpose, mm, diag, clamp\n",
    "from numpy import inf"
   ]
  },
  {
   "cell_type": "code",
   "execution_count": 62,
   "metadata": {
    "collapsed": true
   },
   "outputs": [],
   "source": [
    "def pdist(x):\n",
    "    x_norm = x.pow(2).sum(1).view(-1, 1)\n",
    "    y_t = transpose(x, 0, 1)\n",
    "    y_norm = x_norm.view(1, -1)\n",
    "    \n",
    "    dist = x_norm + y_norm - 2*mm(x, y_t)\n",
    "    dist = dist - diag(dist.diag())\n",
    "    return clamp(dist.pow(0.5), 0.0, 1e10)"
   ]
  },
  {
   "cell_type": "code",
   "execution_count": 63,
   "metadata": {},
   "outputs": [],
   "source": [
    "def criterion_drmsd(x, y):\n",
    "        return ((pdist(x) - pdist(y)).pow(2).mean()*len(x)/(len(x)-1)).pow(0.5)"
   ]
  },
  {
   "cell_type": "code",
   "execution_count": 64,
   "metadata": {},
   "outputs": [
    {
     "data": {
      "text/plain": [
       "Variable containing:\n",
       " 88.7544\n",
       "[torch.FloatTensor of size 1]"
      ]
     },
     "execution_count": 64,
     "metadata": {},
     "output_type": "execute_result"
    }
   ],
   "source": [
    "criterion_drmsd(x, y)"
   ]
  },
  {
   "cell_type": "code",
   "execution_count": 54,
   "metadata": {},
   "outputs": [
    {
     "data": {
      "text/plain": [
       "810000"
      ]
     },
     "execution_count": 54,
     "metadata": {},
     "output_type": "execute_result"
    }
   ],
   "source": [
    "900*900"
   ]
  },
  {
   "cell_type": "code",
   "execution_count": null,
   "metadata": {
    "collapsed": true
   },
   "outputs": [],
   "source": []
  },
  {
   "cell_type": "code",
   "execution_count": null,
   "metadata": {
    "collapsed": true
   },
   "outputs": [],
   "source": []
  },
  {
   "cell_type": "code",
   "execution_count": 45,
   "metadata": {},
   "outputs": [
    {
     "data": {
      "text/plain": [
       "1000000"
      ]
     },
     "execution_count": 45,
     "metadata": {},
     "output_type": "execute_result"
    }
   ],
   "source": [
    "1000*1000"
   ]
  },
  {
   "cell_type": "code",
   "execution_count": 46,
   "metadata": {},
   "outputs": [
    {
     "data": {
      "text/plain": [
       "1000000.0"
      ]
     },
     "execution_count": 46,
     "metadata": {},
     "output_type": "execute_result"
    }
   ],
   "source": [
    "1e6"
   ]
  },
  {
   "cell_type": "code",
   "execution_count": null,
   "metadata": {
    "collapsed": true
   },
   "outputs": [],
   "source": []
  },
  {
   "cell_type": "code",
   "execution_count": 38,
   "metadata": {
    "collapsed": true
   },
   "outputs": [],
   "source": [
    "qq = pdist(x)"
   ]
  },
  {
   "cell_type": "code",
   "execution_count": 39,
   "metadata": {
    "collapsed": true
   },
   "outputs": [],
   "source": [
    "qr = pdist(y)"
   ]
  },
  {
   "cell_type": "code",
   "execution_count": 40,
   "metadata": {},
   "outputs": [
    {
     "data": {
      "text/plain": [
       "Variable containing:\n",
       " 88.7544\n",
       "[torch.FloatTensor of size 1]"
      ]
     },
     "execution_count": 40,
     "metadata": {},
     "output_type": "execute_result"
    }
   ],
   "source": [
    "((qq - qr).pow(2).sum()/len(x)/(len(x)-1)).pow(0.5)"
   ]
  },
  {
   "cell_type": "code",
   "execution_count": null,
   "metadata": {
    "collapsed": true
   },
   "outputs": [],
   "source": []
  },
  {
   "cell_type": "code",
   "execution_count": 20,
   "metadata": {},
   "outputs": [],
   "source": [
    "qq = pdist(x)"
   ]
  },
  {
   "cell_type": "code",
   "execution_count": null,
   "metadata": {
    "collapsed": true
   },
   "outputs": [],
   "source": []
  },
  {
   "cell_type": "code",
   "execution_count": 41,
   "metadata": {
    "collapsed": true
   },
   "outputs": [],
   "source": [
    "def dRMSD(x, y):\n",
    "    return ((pdist(x) - pdist(y)).pow(2).sum()/len(x)/(len(x)-1)).pow(0.5)"
   ]
  },
  {
   "cell_type": "code",
   "execution_count": 42,
   "metadata": {},
   "outputs": [
    {
     "data": {
      "text/plain": [
       "Variable containing:\n",
       " 88.7544\n",
       "[torch.FloatTensor of size 1]"
      ]
     },
     "execution_count": 42,
     "metadata": {},
     "output_type": "execute_result"
    }
   ],
   "source": [
    "dRMSD(x, y)"
   ]
  },
  {
   "cell_type": "code",
   "execution_count": null,
   "metadata": {
    "collapsed": true
   },
   "outputs": [],
   "source": []
  },
  {
   "cell_type": "code",
   "execution_count": null,
   "metadata": {
    "collapsed": true
   },
   "outputs": [],
   "source": []
  },
  {
   "cell_type": "code",
   "execution_count": 93,
   "metadata": {},
   "outputs": [],
   "source": [
    "from torch.nn import PairwiseDistance\n",
    "pdist = PairwiseDistance(p=2)"
   ]
  },
  {
   "cell_type": "code",
   "execution_count": 112,
   "metadata": {},
   "outputs": [
    {
     "data": {
      "text/plain": [
       "Variable containing:\n",
       " 130.7274\n",
       "[torch.FloatTensor of size 1]"
      ]
     },
     "execution_count": 112,
     "metadata": {},
     "output_type": "execute_result"
    }
   ],
   "source": [
    "pdist(x,y).pow(2).mean().pow(0.5)"
   ]
  },
  {
   "cell_type": "code",
   "execution_count": 120,
   "metadata": {},
   "outputs": [
    {
     "data": {
      "text/plain": [
       "Variable containing:\n",
       " 130.7274\n",
       "[torch.FloatTensor of size 1]"
      ]
     },
     "execution_count": 120,
     "metadata": {},
     "output_type": "execute_result"
    }
   ],
   "source": [
    "(3**(0.5))*(x-y).pow(2).mean().pow(0.5)"
   ]
  },
  {
   "cell_type": "code",
   "execution_count": 116,
   "metadata": {},
   "outputs": [
    {
     "data": {
      "text/plain": [
       "1.7320508075688772"
      ]
     },
     "execution_count": 116,
     "metadata": {},
     "output_type": "execute_result"
    }
   ],
   "source": [
    "3**(0.5)"
   ]
  },
  {
   "cell_type": "code",
   "execution_count": 42,
   "metadata": {},
   "outputs": [
    {
     "data": {
      "text/plain": [
       "900"
      ]
     },
     "execution_count": 42,
     "metadata": {},
     "output_type": "execute_result"
    }
   ],
   "source": [
    "len(coords_in)"
   ]
  },
  {
   "cell_type": "code",
   "execution_count": 43,
   "metadata": {},
   "outputs": [
    {
     "data": {
      "text/plain": [
       "810000"
      ]
     },
     "execution_count": 43,
     "metadata": {},
     "output_type": "execute_result"
    }
   ],
   "source": [
    "900*900"
   ]
  },
  {
   "cell_type": "code",
   "execution_count": 66,
   "metadata": {},
   "outputs": [
    {
     "data": {
      "text/plain": [
       "88.754447798442115"
      ]
     },
     "execution_count": 66,
     "metadata": {},
     "output_type": "execute_result"
    }
   ],
   "source": [
    "norm(pdist(coords_in) - pdist(coords_pred))/(len(x)**(0.5))"
   ]
  },
  {
   "cell_type": "code",
   "execution_count": 57,
   "metadata": {
    "collapsed": true
   },
   "outputs": [],
   "source": [
    "x = pdist(coords_in) - pdist(coords_pred)"
   ]
  },
  {
   "cell_type": "code",
   "execution_count": 52,
   "metadata": {},
   "outputs": [
    {
     "data": {
      "text/plain": [
       "404550.0"
      ]
     },
     "execution_count": 52,
     "metadata": {},
     "output_type": "execute_result"
    }
   ],
   "source": [
    "len(coords_in)*(len(coords_in)-1)/2"
   ]
  },
  {
   "cell_type": "code",
   "execution_count": 53,
   "metadata": {},
   "outputs": [
    {
     "data": {
      "text/plain": [
       "404550"
      ]
     },
     "execution_count": 53,
     "metadata": {},
     "output_type": "execute_result"
    }
   ],
   "source": [
    "len(x)"
   ]
  },
  {
   "cell_type": "code",
   "execution_count": 62,
   "metadata": {},
   "outputs": [
    {
     "data": {
      "text/plain": [
       "88.754447798442087"
      ]
     },
     "execution_count": 62,
     "metadata": {},
     "output_type": "execute_result"
    }
   ],
   "source": [
    "((x**2).mean())**(1/2)"
   ]
  },
  {
   "cell_type": "code",
   "execution_count": 60,
   "metadata": {},
   "outputs": [
    {
     "data": {
      "text/plain": [
       "88.754447798442087"
      ]
     },
     "execution_count": 60,
     "metadata": {},
     "output_type": "execute_result"
    }
   ],
   "source": [
    "((x**2)/len(x)).sum()**(1/2)"
   ]
  },
  {
   "cell_type": "code",
   "execution_count": 59,
   "metadata": {},
   "outputs": [
    {
     "data": {
      "text/plain": [
       "56451.59655156605"
      ]
     },
     "execution_count": 59,
     "metadata": {},
     "output_type": "execute_result"
    }
   ],
   "source": [
    "norm(x)"
   ]
  },
  {
   "cell_type": "code",
   "execution_count": null,
   "metadata": {
    "collapsed": true
   },
   "outputs": [],
   "source": []
  }
 ],
 "metadata": {
  "kernelspec": {
   "display_name": "Python 3",
   "language": "python",
   "name": "python3"
  },
  "language_info": {
   "codemirror_mode": {
    "name": "ipython",
    "version": 3
   },
   "file_extension": ".py",
   "mimetype": "text/x-python",
   "name": "python",
   "nbconvert_exporter": "python",
   "pygments_lexer": "ipython3",
   "version": "3.6.2"
  }
 },
 "nbformat": 4,
 "nbformat_minor": 2
}
